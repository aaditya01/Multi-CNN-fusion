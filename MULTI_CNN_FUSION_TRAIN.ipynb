{
 "cells": [
  {
   "cell_type": "code",
   "execution_count": 36,
   "metadata": {},
   "outputs": [],
   "source": [
    "from os import listdir\n",
    "import numpy as np\n",
    "import tensorflow as tf\n",
    "import cv2\n",
    "import tflite_runtime.interpreter as tflite\n",
    "from tensorflow.keras.models import Sequential\n",
    "from tensorflow.keras.layers import Dense, Dropout, Activation, Flatten, concatenate\n",
    "from tensorflow.keras.layers import Conv2D, MaxPooling2D,BatchNormalization\n",
    "from sklearn.model_selection import train_test_split\n",
    "from tensorflow.keras.utils import to_categorical\n",
    "from tensorflow.keras.optimizers import RMSprop\n",
    "from tensorflow.keras.models import load_model\n",
    "from tensorflow.keras.callbacks import ModelCheckpoint, EarlyStopping\n",
    "import time\n",
    "\n",
    "start = time.time()"
   ]
  },
  {
   "cell_type": "code",
   "execution_count": 37,
   "metadata": {},
   "outputs": [],
   "source": [
    "def loadImages(path):\n",
    "    imagesList = listdir(path)\n",
    "    loadedImages = []\n",
    "    for image in imagesList:\n",
    "        img = cv2.imread(path + image)\n",
    "        img = cv2.cvtColor(img, cv2.COLOR_BGR2RGB)\n",
    "        img = cv2.cvtColor(img, cv2.COLOR_RGB2GRAY)\n",
    "        img = cv2.resize(img, (50,50))\n",
    "        img = img.flatten()\n",
    "        loadedImages.append(img)\n",
    "\n",
    "    return loadedImages"
   ]
  },
  {
   "cell_type": "code",
   "execution_count": 38,
   "metadata": {},
   "outputs": [],
   "source": [
    "path = \"WSN-DS_1/train/Anomaly/\"\n",
    "aimgs1 = loadImages(path)\n",
    "alabel1 =  np.ones(len(aimgs1))*1"
   ]
  },
  {
   "cell_type": "code",
   "execution_count": 39,
   "metadata": {},
   "outputs": [],
   "source": [
    "path = \"WSN-DS_1/train/Normal/\"\n",
    "nimgs1 = loadImages(path)\n",
    "nlabel1 =  np.ones(len(nimgs1))*0"
   ]
  },
  {
   "cell_type": "code",
   "execution_count": 40,
   "metadata": {},
   "outputs": [],
   "source": [
    "imgs1 = aimgs1.copy()\n",
    "imgs1.extend(nimgs1)"
   ]
  },
  {
   "cell_type": "code",
   "execution_count": 41,
   "metadata": {},
   "outputs": [],
   "source": [
    "data1 = np.array(imgs1)\n",
    "data1 = data1.reshape([-1,50,50,1])\n",
    "labels1 = np.hstack((alabel1,nlabel1))\n",
    "labels1 =np.uint8(labels1)"
   ]
  },
  {
   "cell_type": "code",
   "execution_count": 42,
   "metadata": {},
   "outputs": [
    {
     "name": "stdout",
     "output_type": "stream",
     "text": [
      "(168598, 50, 50, 1)\n"
     ]
    }
   ],
   "source": [
    "X_train_1 = data1/255\n",
    "x = np.arange(5000).reshape((2,50,50,1))\n",
    "x = np.where(x > 0, 0, x)\n",
    "X_train_1 = np.concatenate((X_train_1, x))\n",
    "print(X_train_1.shape)"
   ]
  },
  {
   "cell_type": "code",
   "execution_count": 43,
   "metadata": {},
   "outputs": [],
   "source": [
    "path = \"WSN-DS_2/train/Anomaly/\"\n",
    "aimgs2 = loadImages(path)\n",
    "alabel2 = np.ones(len(aimgs2))*1"
   ]
  },
  {
   "cell_type": "code",
   "execution_count": 44,
   "metadata": {},
   "outputs": [],
   "source": [
    "path = \"WSN-DS_2/train/Normal/\"\n",
    "nimgs2 = loadImages(path)\n",
    "nlabel2 =  np.ones(len(nimgs2))*0"
   ]
  },
  {
   "cell_type": "code",
   "execution_count": 45,
   "metadata": {},
   "outputs": [],
   "source": [
    "imgs2 = aimgs2.copy()\n",
    "imgs2.extend(nimgs2)"
   ]
  },
  {
   "cell_type": "code",
   "execution_count": 46,
   "metadata": {},
   "outputs": [],
   "source": [
    "data2 = np.array(imgs2)\n",
    "data2 = data2.reshape([-1,50,50,1])\n",
    "labels2 = np.hstack((alabel2,nlabel2))\n",
    "labels2 =np.uint8(labels2)"
   ]
  },
  {
   "cell_type": "code",
   "execution_count": 47,
   "metadata": {},
   "outputs": [],
   "source": [
    "X_train_2 = data2/255\n"
   ]
  },
  {
   "cell_type": "code",
   "execution_count": 48,
   "metadata": {},
   "outputs": [],
   "source": [
    "y_train = to_categorical(labels2)\n",
    "num_classes = y_train.shape[1]"
   ]
  },
  {
   "cell_type": "code",
   "execution_count": 49,
   "metadata": {
    "scrolled": true
   },
   "outputs": [
    {
     "name": "stdout",
     "output_type": "stream",
     "text": [
      "Model: \"sequential_4\"\n",
      "_________________________________________________________________\n",
      "Layer (type)                 Output Shape              Param #   \n",
      "=================================================================\n",
      "conv2d_16 (Conv2D)           (None, 46, 46, 32)        832       \n",
      "_________________________________________________________________\n",
      "max_pooling2d_16 (MaxPooling (None, 23, 23, 32)        0         \n",
      "_________________________________________________________________\n",
      "dropout_49 (Dropout)         (None, 23, 23, 32)        0         \n",
      "_________________________________________________________________\n",
      "conv2d_17 (Conv2D)           (None, 21, 21, 32)        9248      \n",
      "_________________________________________________________________\n",
      "activation_12 (Activation)   (None, 21, 21, 32)        0         \n",
      "_________________________________________________________________\n",
      "max_pooling2d_17 (MaxPooling (None, 10, 10, 32)        0         \n",
      "_________________________________________________________________\n",
      "batch_normalization_12 (Batc (None, 10, 10, 32)        128       \n",
      "_________________________________________________________________\n",
      "dropout_50 (Dropout)         (None, 10, 10, 32)        0         \n",
      "_________________________________________________________________\n",
      "conv2d_18 (Conv2D)           (None, 8, 8, 64)          18496     \n",
      "_________________________________________________________________\n",
      "activation_13 (Activation)   (None, 8, 8, 64)          0         \n",
      "_________________________________________________________________\n",
      "max_pooling2d_18 (MaxPooling (None, 4, 4, 64)          0         \n",
      "_________________________________________________________________\n",
      "batch_normalization_13 (Batc (None, 4, 4, 64)          256       \n",
      "_________________________________________________________________\n",
      "dropout_51 (Dropout)         (None, 4, 4, 64)          0         \n",
      "_________________________________________________________________\n",
      "conv2d_19 (Conv2D)           (None, 2, 2, 128)         73856     \n",
      "_________________________________________________________________\n",
      "activation_14 (Activation)   (None, 2, 2, 128)         0         \n",
      "_________________________________________________________________\n",
      "max_pooling2d_19 (MaxPooling (None, 1, 1, 128)         0         \n",
      "_________________________________________________________________\n",
      "batch_normalization_14 (Batc (None, 1, 1, 128)         512       \n",
      "_________________________________________________________________\n",
      "dropout_52 (Dropout)         (None, 1, 1, 128)         0         \n",
      "_________________________________________________________________\n",
      "flatten_4 (Flatten)          (None, 128)               0         \n",
      "=================================================================\n",
      "Total params: 103,328\n",
      "Trainable params: 102,880\n",
      "Non-trainable params: 448\n",
      "_________________________________________________________________\n"
     ]
    }
   ],
   "source": [
    "model1 = Sequential()\n",
    "\n",
    "model1.add(Conv2D(32,(5,5), input_shape=(50,50,1), activation='relu'))\n",
    "model1.add(MaxPooling2D(pool_size=(2, 2)))\n",
    "model1.add(Dropout(0.5))\n",
    "     \n",
    "model1.add(Conv2D(filters=32, kernel_size=(3, 3)))\n",
    "model1.add(Activation('relu'))\n",
    "model1.add(MaxPooling2D(pool_size=(2, 2)))\n",
    "model1.add(BatchNormalization())\n",
    "model1.add(Dropout(0.1))\n",
    "    \n",
    "model1.add(Conv2D(filters=64, kernel_size=(3, 3)))\n",
    "model1.add(Activation('relu'))\n",
    "model1.add(MaxPooling2D(pool_size=(2, 2)))\n",
    "model1.add(BatchNormalization())\n",
    "model1.add(Dropout(0.1))\n",
    "    \n",
    "model1.add(Conv2D(filters=128, kernel_size=(3, 3)))\n",
    "model1.add(Activation('relu'))\n",
    "model1.add(MaxPooling2D(pool_size=(2, 2)))\n",
    "model1.add(BatchNormalization())\n",
    "model1.add(Dropout(0.1))    \n",
    "\n",
    "model1.add(Flatten())\n",
    "\n",
    "model1.summary()"
   ]
  },
  {
   "cell_type": "code",
   "execution_count": 50,
   "metadata": {},
   "outputs": [
    {
     "name": "stdout",
     "output_type": "stream",
     "text": [
      "Model: \"sequential_5\"\n",
      "_________________________________________________________________\n",
      "Layer (type)                 Output Shape              Param #   \n",
      "=================================================================\n",
      "conv2d_20 (Conv2D)           (None, 46, 46, 32)        832       \n",
      "_________________________________________________________________\n",
      "max_pooling2d_20 (MaxPooling (None, 23, 23, 32)        0         \n",
      "_________________________________________________________________\n",
      "dropout_53 (Dropout)         (None, 23, 23, 32)        0         \n",
      "_________________________________________________________________\n",
      "conv2d_21 (Conv2D)           (None, 21, 21, 32)        9248      \n",
      "_________________________________________________________________\n",
      "activation_15 (Activation)   (None, 21, 21, 32)        0         \n",
      "_________________________________________________________________\n",
      "max_pooling2d_21 (MaxPooling (None, 10, 10, 32)        0         \n",
      "_________________________________________________________________\n",
      "batch_normalization_15 (Batc (None, 10, 10, 32)        128       \n",
      "_________________________________________________________________\n",
      "dropout_54 (Dropout)         (None, 10, 10, 32)        0         \n",
      "_________________________________________________________________\n",
      "conv2d_22 (Conv2D)           (None, 8, 8, 64)          18496     \n",
      "_________________________________________________________________\n",
      "activation_16 (Activation)   (None, 8, 8, 64)          0         \n",
      "_________________________________________________________________\n",
      "max_pooling2d_22 (MaxPooling (None, 4, 4, 64)          0         \n",
      "_________________________________________________________________\n",
      "batch_normalization_16 (Batc (None, 4, 4, 64)          256       \n",
      "_________________________________________________________________\n",
      "dropout_55 (Dropout)         (None, 4, 4, 64)          0         \n",
      "_________________________________________________________________\n",
      "conv2d_23 (Conv2D)           (None, 2, 2, 128)         73856     \n",
      "_________________________________________________________________\n",
      "activation_17 (Activation)   (None, 2, 2, 128)         0         \n",
      "_________________________________________________________________\n",
      "max_pooling2d_23 (MaxPooling (None, 1, 1, 128)         0         \n",
      "_________________________________________________________________\n",
      "batch_normalization_17 (Batc (None, 1, 1, 128)         512       \n",
      "_________________________________________________________________\n",
      "dropout_56 (Dropout)         (None, 1, 1, 128)         0         \n",
      "_________________________________________________________________\n",
      "flatten_5 (Flatten)          (None, 128)               0         \n",
      "=================================================================\n",
      "Total params: 103,328\n",
      "Trainable params: 102,880\n",
      "Non-trainable params: 448\n",
      "_________________________________________________________________\n"
     ]
    }
   ],
   "source": [
    "model2 = Sequential()\n",
    "\n",
    "model2.add(Conv2D(32,(5,5), input_shape=(50,50,1), activation='relu'))\n",
    "model2.add(MaxPooling2D(pool_size=(2, 2)))\n",
    "model2.add(Dropout(0.5))\n",
    "     \n",
    "model2.add(Conv2D(filters=32, kernel_size=(3, 3)))\n",
    "model2.add(Activation('relu'))\n",
    "model2.add(MaxPooling2D(pool_size=(2, 2)))\n",
    "model2.add(BatchNormalization())\n",
    "model2.add(Dropout(0.1))\n",
    "\n",
    "model2.add(Conv2D(filters=64, kernel_size=(3, 3)))\n",
    "model2.add(Activation('relu'))\n",
    "model2.add(MaxPooling2D(pool_size=(2, 2)))\n",
    "model2.add(BatchNormalization())\n",
    "model2.add(Dropout(0.1))\n",
    "\n",
    "model2.add(Conv2D(filters=128, kernel_size=(3, 3)))\n",
    "model2.add(Activation('relu'))\n",
    "model2.add(MaxPooling2D(pool_size=(2, 2)))\n",
    "model2.add(BatchNormalization())\n",
    "model2.add(Dropout(0.1))\n",
    "\n",
    "model2.add(Flatten())\n",
    "\n",
    "model2.summary()"
   ]
  },
  {
   "cell_type": "code",
   "execution_count": 51,
   "metadata": {},
   "outputs": [],
   "source": [
    "model0 = concatenate([model1.output, model2.output])\n",
    "\n",
    "x = Dense(512, activation='relu')(model0)\n",
    "x = Dropout(0.4) (x)\n",
    "x = Dense(256, activation='relu')(x)\n",
    "x = Dropout(0.4) (x)\n",
    "x = Dense(128, activation='relu')(x)\n",
    "x = Dropout(0.4) (x)\n",
    "output = Dense(num_classes,activation='softmax')(x)\n"
   ]
  },
  {
   "cell_type": "code",
   "execution_count": 52,
   "metadata": {},
   "outputs": [],
   "source": [
    "fusion_model = tf.keras.Model(inputs=[model1.input, model2.input], outputs=[output])\n",
    "\n",
    "rm = tf.keras.optimizers.SGD(lr=0.001, momentum=0.8)\n",
    "rm2 = RMSprop(lr=0.001, rho=0.9)\n",
    "rm3 = tf.keras.optimizers.Adagrad(lr=0.01)\n",
    "rm4 = tf.keras.optimizers.Adam(lr=0.001, beta_1=0.9, beta_2=0.999, amsgrad=False)\n",
    "\n",
    "fusion_model.compile(loss='binary_crossentropy', optimizer=rm, metrics=['accuracy'])"
   ]
  },
  {
   "cell_type": "code",
   "execution_count": 53,
   "metadata": {},
   "outputs": [
    {
     "name": "stdout",
     "output_type": "stream",
     "text": [
      "Epoch 1/20\n",
      "843/843 - 380s - loss: 0.1365 - accuracy: 0.9497\n",
      "Epoch 2/20\n",
      "843/843 - 368s - loss: 0.0493 - accuracy: 0.9826\n",
      "Epoch 3/20\n",
      "843/843 - 368s - loss: 0.0386 - accuracy: 0.9864\n",
      "Epoch 4/20\n",
      "843/843 - 373s - loss: 0.0335 - accuracy: 0.9885\n",
      "Epoch 5/20\n",
      "843/843 - 386s - loss: 0.0307 - accuracy: 0.9894\n",
      "Epoch 6/20\n",
      "843/843 - 379s - loss: 0.0292 - accuracy: 0.9904\n",
      "Epoch 7/20\n",
      "843/843 - 376s - loss: 0.0266 - accuracy: 0.9910\n",
      "Epoch 8/20\n",
      "843/843 - 371s - loss: 0.0255 - accuracy: 0.9918\n",
      "Epoch 9/20\n",
      "843/843 - 368s - loss: 0.0248 - accuracy: 0.9918\n",
      "Epoch 10/20\n",
      "843/843 - 383s - loss: 0.0231 - accuracy: 0.9923\n",
      "Epoch 11/20\n",
      "843/843 - 396s - loss: 0.0234 - accuracy: 0.9925\n",
      "Epoch 12/20\n",
      "843/843 - 380s - loss: 0.0224 - accuracy: 0.9928\n",
      "Epoch 13/20\n",
      "843/843 - 386s - loss: 0.0225 - accuracy: 0.9926\n",
      "Epoch 14/20\n",
      "843/843 - 392s - loss: 0.0215 - accuracy: 0.9929\n",
      "Epoch 15/20\n",
      "843/843 - 402s - loss: 0.0211 - accuracy: 0.9931\n",
      "Epoch 16/20\n",
      "843/843 - 380s - loss: 0.0209 - accuracy: 0.9935\n",
      "Epoch 17/20\n",
      "843/843 - 370s - loss: 0.0200 - accuracy: 0.9934\n",
      "Epoch 18/20\n",
      "843/843 - 377s - loss: 0.0205 - accuracy: 0.9935\n",
      "Epoch 19/20\n",
      "843/843 - 370s - loss: 0.0202 - accuracy: 0.9935\n",
      "Epoch 20/20\n",
      "843/843 - 370s - loss: 0.0194 - accuracy: 0.9937\n",
      "INFO:tensorflow:Assets written to: fusion_light_weight_model.tflite\\assets\n"
     ]
    }
   ],
   "source": [
    "history = fusion_model.fit([X_train_1,X_train_2], y_train, epochs=20, batch_size=200, verbose=2, shuffle = True)\n",
    "fusion_model.save('fusion_light_weight_model.tflite')  "
   ]
  },
  {
   "cell_type": "code",
   "execution_count": 57,
   "metadata": {},
   "outputs": [
    {
     "data": {
      "image/png": "[encoded data removed]",
      "text/plain": [
       "<Figure size 1080x720 with 2 Axes>"
      ]
     },
     "metadata": {
      "needs_background": "light"
     },
     "output_type": "display_data"
    }
   ],
   "source": [
    "import matplotlib.pyplot as plt\n",
    "\n",
    "%matplotlib inline\n",
    "plt.figure(1, figsize = (15,10)) \n",
    "    \n",
    "plt.subplot(221)  \n",
    "plt.plot(history.history['accuracy'])   \n",
    "plt.title('Training model accuracy')  \n",
    "plt.ylabel('accuracy')  \n",
    "plt.xlabel('epoch')  \n",
    "    \n",
    "plt.subplot(222)  \n",
    "plt.plot(history.history['loss'])  \n",
    "plt.title('Training model loss')  \n",
    "plt.ylabel('loss')  \n",
    "plt.xlabel('epoch')  \n",
    "\n",
    "plt.show()"
   ]
  },
  {
   "cell_type": "code",
   "execution_count": 55,
   "metadata": {},
   "outputs": [
    {
     "name": "stdout",
     "output_type": "stream",
     "text": [
      "Total time:  7944.412333011627 seconds\n"
     ]
    }
   ],
   "source": [
    "print(\"Total time: \", time.time() - start, \"seconds\")"
   ]
  }
 ],
 "metadata": {
  "kernelspec": {
   "display_name": "Python 3",
   "language": "python",
   "name": "python3"
  },
  "language_info": {
   "codemirror_mode": {
    "name": "ipython",
    "version": 3
   },
   "file_extension": ".py",
   "mimetype": "text/x-python",
   "name": "python",
   "nbconvert_exporter": "python",
   "pygments_lexer": "ipython3",
   "version": "3.8.3"
  }
 },
 "nbformat": 4,
 "nbformat_minor": 2
}
